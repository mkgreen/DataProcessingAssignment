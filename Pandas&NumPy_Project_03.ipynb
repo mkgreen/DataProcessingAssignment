{
  "nbformat": 4,
  "nbformat_minor": 0,
  "metadata": {
    "colab": {
      "name": "Pandas&NumPy Project 03",
      "provenance": [],
      "collapsed_sections": [],
      "authorship_tag": "ABX9TyPxIYRa2k+AgFLlIgJUXOKk",
      "include_colab_link": true
    },
    "kernelspec": {
      "name": "python3",
      "display_name": "Python 3"
    },
    "language_info": {
      "name": "python"
    }
  },
  "cells": [
    {
      "cell_type": "markdown",
      "metadata": {
        "id": "view-in-github",
        "colab_type": "text"
      },
      "source": [
        "<a href=\"https://colab.research.google.com/github/mkgreen/DataProcessingAssignment/blob/main/Pandas%26NumPy_Project_03.ipynb\" target=\"_parent\"><img src=\"https://colab.research.google.com/assets/colab-badge.svg\" alt=\"Open In Colab\"/></a>"
      ]
    },
    {
      "cell_type": "markdown",
      "source": [
        "## 1) Generate an array of zeroes using inbuilt NumPy function."
      ],
      "metadata": {
        "id": "MKjUu0pqZxqX"
      }
    },
    {
      "cell_type": "code",
      "source": [
        "import numpy as np\n",
        "np.zeros(5)"
      ],
      "metadata": {
        "colab": {
          "base_uri": "https://localhost:8080/"
        },
        "id": "k-pwi-k3asCx",
        "outputId": "ec87c6da-03a1-4139-c428-3d49b283d96d"
      },
      "execution_count": 1,
      "outputs": [
        {
          "output_type": "execute_result",
          "data": {
            "text/plain": [
              "array([0., 0., 0., 0., 0.])"
            ]
          },
          "metadata": {},
          "execution_count": 1
        }
      ]
    },
    {
      "cell_type": "markdown",
      "source": [
        "## 2) Run the given code and find the dot product of both arrays."
      ],
      "metadata": {
        "id": "ZLJJeeXsZ5t6"
      }
    },
    {
      "cell_type": "code",
      "source": [
        "import numpy as np\n",
        "a = np.random.randint(2,10, (3,4))\n",
        "b = np.random.randint(2,10, (4,3))\n",
        "print(a)\n",
        "print(b)"
      ],
      "metadata": {
        "colab": {
          "base_uri": "https://localhost:8080/"
        },
        "id": "z-GfMdqsbGhO",
        "outputId": "a8036e69-d62d-4bb9-cb20-14f4dbcf9518"
      },
      "execution_count": 2,
      "outputs": [
        {
          "output_type": "stream",
          "name": "stdout",
          "text": [
            "[[2 4 3 5]\n",
            " [3 9 3 6]\n",
            " [5 9 2 5]]\n",
            "[[8 2 3]\n",
            " [3 2 7]\n",
            " [2 5 6]\n",
            " [5 4 4]]\n"
          ]
        }
      ]
    },
    {
      "cell_type": "code",
      "source": [
        "a.dot(b)"
      ],
      "metadata": {
        "colab": {
          "base_uri": "https://localhost:8080/"
        },
        "id": "Qg4Y5SWEbKey",
        "outputId": "b23e50d9-fc1a-4ddf-b445-3dbc2e15c0da"
      },
      "execution_count": 3,
      "outputs": [
        {
          "output_type": "execute_result",
          "data": {
            "text/plain": [
              "array([[ 59,  47,  72],\n",
              "       [ 87,  63, 114],\n",
              "       [ 96,  58, 110]])"
            ]
          },
          "metadata": {},
          "execution_count": 3
        }
      ]
    },
    {
      "cell_type": "code",
      "source": [
        "b.dot(a)"
      ],
      "metadata": {
        "colab": {
          "base_uri": "https://localhost:8080/"
        },
        "id": "oJWkjIbhbLlS",
        "outputId": "bdb2ddc9-f002-46b2-cb58-29b00b51da21"
      },
      "execution_count": 4,
      "outputs": [
        {
          "output_type": "execute_result",
          "data": {
            "text/plain": [
              "array([[ 37,  77,  36,  67],\n",
              "       [ 47,  93,  29,  62],\n",
              "       [ 49, 107,  33,  70],\n",
              "       [ 42,  92,  35,  69]])"
            ]
          },
          "metadata": {},
          "execution_count": 4
        }
      ]
    },
    {
      "cell_type": "markdown",
      "source": [
        "# 3) Read the csv file provided using pandas and display the first 5 entries "
      ],
      "metadata": {
        "id": "SHVkYqowZ_vl"
      }
    },
    {
      "cell_type": "code",
      "source": [
        "import pandas as pd\n",
        "\n",
        "data = pd.read_csv(\"/content/data.csv\")\n",
        "data.head()"
      ],
      "metadata": {
        "colab": {
          "base_uri": "https://localhost:8080/",
          "height": 206
        },
        "id": "uoTRBo9-bUEM",
        "outputId": "9d36de64-ff40-4e63-9304-e598d1fd04f0"
      },
      "execution_count": 5,
      "outputs": [
        {
          "output_type": "execute_result",
          "data": {
            "text/plain": [
              "   OBJECTID                        UNIT_NAME DESCRIPTION   ACRES  SHAPE.AREA  \\\n",
              "0        21        Fort Stevenson State Park  State Park  586.48    0.000284   \n",
              "1        22           Beaver Lake State Park  State Park  273.16    0.000129   \n",
              "2        23  Fort Abraham Lincoln State Park  State Park  836.47    0.000399   \n",
              "3        24           Fort Ransom State Park  State Park  933.78    0.000444   \n",
              "4        25        Grahams Island State Park  State Park  959.33    0.000469   \n",
              "\n",
              "   SHAPE.LEN  \n",
              "0   0.135641  \n",
              "1   0.080067  \n",
              "2   0.119868  \n",
              "3   0.128733  \n",
              "4   0.125546  "
            ],
            "text/html": [
              "\n",
              "  <div id=\"df-5f361942-d2a8-47e0-9088-b89a7214b606\">\n",
              "    <div class=\"colab-df-container\">\n",
              "      <div>\n",
              "<style scoped>\n",
              "    .dataframe tbody tr th:only-of-type {\n",
              "        vertical-align: middle;\n",
              "    }\n",
              "\n",
              "    .dataframe tbody tr th {\n",
              "        vertical-align: top;\n",
              "    }\n",
              "\n",
              "    .dataframe thead th {\n",
              "        text-align: right;\n",
              "    }\n",
              "</style>\n",
              "<table border=\"1\" class=\"dataframe\">\n",
              "  <thead>\n",
              "    <tr style=\"text-align: right;\">\n",
              "      <th></th>\n",
              "      <th>OBJECTID</th>\n",
              "      <th>UNIT_NAME</th>\n",
              "      <th>DESCRIPTION</th>\n",
              "      <th>ACRES</th>\n",
              "      <th>SHAPE.AREA</th>\n",
              "      <th>SHAPE.LEN</th>\n",
              "    </tr>\n",
              "  </thead>\n",
              "  <tbody>\n",
              "    <tr>\n",
              "      <th>0</th>\n",
              "      <td>21</td>\n",
              "      <td>Fort Stevenson State Park</td>\n",
              "      <td>State Park</td>\n",
              "      <td>586.48</td>\n",
              "      <td>0.000284</td>\n",
              "      <td>0.135641</td>\n",
              "    </tr>\n",
              "    <tr>\n",
              "      <th>1</th>\n",
              "      <td>22</td>\n",
              "      <td>Beaver Lake State Park</td>\n",
              "      <td>State Park</td>\n",
              "      <td>273.16</td>\n",
              "      <td>0.000129</td>\n",
              "      <td>0.080067</td>\n",
              "    </tr>\n",
              "    <tr>\n",
              "      <th>2</th>\n",
              "      <td>23</td>\n",
              "      <td>Fort Abraham Lincoln State Park</td>\n",
              "      <td>State Park</td>\n",
              "      <td>836.47</td>\n",
              "      <td>0.000399</td>\n",
              "      <td>0.119868</td>\n",
              "    </tr>\n",
              "    <tr>\n",
              "      <th>3</th>\n",
              "      <td>24</td>\n",
              "      <td>Fort Ransom State Park</td>\n",
              "      <td>State Park</td>\n",
              "      <td>933.78</td>\n",
              "      <td>0.000444</td>\n",
              "      <td>0.128733</td>\n",
              "    </tr>\n",
              "    <tr>\n",
              "      <th>4</th>\n",
              "      <td>25</td>\n",
              "      <td>Grahams Island State Park</td>\n",
              "      <td>State Park</td>\n",
              "      <td>959.33</td>\n",
              "      <td>0.000469</td>\n",
              "      <td>0.125546</td>\n",
              "    </tr>\n",
              "  </tbody>\n",
              "</table>\n",
              "</div>\n",
              "      <button class=\"colab-df-convert\" onclick=\"convertToInteractive('df-5f361942-d2a8-47e0-9088-b89a7214b606')\"\n",
              "              title=\"Convert this dataframe to an interactive table.\"\n",
              "              style=\"display:none;\">\n",
              "        \n",
              "  <svg xmlns=\"http://www.w3.org/2000/svg\" height=\"24px\"viewBox=\"0 0 24 24\"\n",
              "       width=\"24px\">\n",
              "    <path d=\"M0 0h24v24H0V0z\" fill=\"none\"/>\n",
              "    <path d=\"M18.56 5.44l.94 2.06.94-2.06 2.06-.94-2.06-.94-.94-2.06-.94 2.06-2.06.94zm-11 1L8.5 8.5l.94-2.06 2.06-.94-2.06-.94L8.5 2.5l-.94 2.06-2.06.94zm10 10l.94 2.06.94-2.06 2.06-.94-2.06-.94-.94-2.06-.94 2.06-2.06.94z\"/><path d=\"M17.41 7.96l-1.37-1.37c-.4-.4-.92-.59-1.43-.59-.52 0-1.04.2-1.43.59L10.3 9.45l-7.72 7.72c-.78.78-.78 2.05 0 2.83L4 21.41c.39.39.9.59 1.41.59.51 0 1.02-.2 1.41-.59l7.78-7.78 2.81-2.81c.8-.78.8-2.07 0-2.86zM5.41 20L4 18.59l7.72-7.72 1.47 1.35L5.41 20z\"/>\n",
              "  </svg>\n",
              "      </button>\n",
              "      \n",
              "  <style>\n",
              "    .colab-df-container {\n",
              "      display:flex;\n",
              "      flex-wrap:wrap;\n",
              "      gap: 12px;\n",
              "    }\n",
              "\n",
              "    .colab-df-convert {\n",
              "      background-color: #E8F0FE;\n",
              "      border: none;\n",
              "      border-radius: 50%;\n",
              "      cursor: pointer;\n",
              "      display: none;\n",
              "      fill: #1967D2;\n",
              "      height: 32px;\n",
              "      padding: 0 0 0 0;\n",
              "      width: 32px;\n",
              "    }\n",
              "\n",
              "    .colab-df-convert:hover {\n",
              "      background-color: #E2EBFA;\n",
              "      box-shadow: 0px 1px 2px rgba(60, 64, 67, 0.3), 0px 1px 3px 1px rgba(60, 64, 67, 0.15);\n",
              "      fill: #174EA6;\n",
              "    }\n",
              "\n",
              "    [theme=dark] .colab-df-convert {\n",
              "      background-color: #3B4455;\n",
              "      fill: #D2E3FC;\n",
              "    }\n",
              "\n",
              "    [theme=dark] .colab-df-convert:hover {\n",
              "      background-color: #434B5C;\n",
              "      box-shadow: 0px 1px 3px 1px rgba(0, 0, 0, 0.15);\n",
              "      filter: drop-shadow(0px 1px 2px rgba(0, 0, 0, 0.3));\n",
              "      fill: #FFFFFF;\n",
              "    }\n",
              "  </style>\n",
              "\n",
              "      <script>\n",
              "        const buttonEl =\n",
              "          document.querySelector('#df-5f361942-d2a8-47e0-9088-b89a7214b606 button.colab-df-convert');\n",
              "        buttonEl.style.display =\n",
              "          google.colab.kernel.accessAllowed ? 'block' : 'none';\n",
              "\n",
              "        async function convertToInteractive(key) {\n",
              "          const element = document.querySelector('#df-5f361942-d2a8-47e0-9088-b89a7214b606');\n",
              "          const dataTable =\n",
              "            await google.colab.kernel.invokeFunction('convertToInteractive',\n",
              "                                                     [key], {});\n",
              "          if (!dataTable) return;\n",
              "\n",
              "          const docLinkHtml = 'Like what you see? Visit the ' +\n",
              "            '<a target=\"_blank\" href=https://colab.research.google.com/notebooks/data_table.ipynb>data table notebook</a>'\n",
              "            + ' to learn more about interactive tables.';\n",
              "          element.innerHTML = '';\n",
              "          dataTable['output_type'] = 'display_data';\n",
              "          await google.colab.output.renderOutput(dataTable, element);\n",
              "          const docLink = document.createElement('div');\n",
              "          docLink.innerHTML = docLinkHtml;\n",
              "          element.appendChild(docLink);\n",
              "        }\n",
              "      </script>\n",
              "    </div>\n",
              "  </div>\n",
              "  "
            ]
          },
          "metadata": {},
          "execution_count": 5
        }
      ]
    },
    {
      "cell_type": "markdown",
      "source": [
        "# 4) Describe the data with all features."
      ],
      "metadata": {
        "id": "HBLLESkmaKNI"
      }
    },
    {
      "cell_type": "code",
      "source": [
        "data.info()\n",
        "print(\"*\"*62)\n",
        "data.describe()"
      ],
      "metadata": {
        "id": "AI2Tpt6scCsw",
        "colab": {
          "base_uri": "https://localhost:8080/",
          "height": 561
        },
        "outputId": "dc3834b5-4660-42fd-e456-0c321260c2f2"
      },
      "execution_count": 26,
      "outputs": [
        {
          "output_type": "stream",
          "name": "stdout",
          "text": [
            "<class 'pandas.core.frame.DataFrame'>\n",
            "RangeIndex: 25 entries, 0 to 24\n",
            "Data columns (total 7 columns):\n",
            " #   Column       Non-Null Count  Dtype  \n",
            "---  ------       --------------  -----  \n",
            " 0   OBJECTID     25 non-null     int64  \n",
            " 1   UNIT_NAME    25 non-null     object \n",
            " 2   DESCRIPTION  25 non-null     object \n",
            " 3   ACRES        25 non-null     float64\n",
            " 4   SHAPE.AREA   25 non-null     float64\n",
            " 5   SHAPE.LEN    25 non-null     float64\n",
            " 6   NEW_FEATURE  25 non-null     float64\n",
            "dtypes: float64(4), int64(1), object(2)\n",
            "memory usage: 1.5+ KB\n",
            "**************************************************************\n"
          ]
        },
        {
          "output_type": "execute_result",
          "data": {
            "text/plain": [
              "        OBJECTID        ACRES  SHAPE.AREA  SHAPE.LEN  NEW_FEATURE\n",
              "count  25.000000    25.000000   25.000000  25.000000    25.000000\n",
              "mean   33.000000   724.134400    0.000352   0.109863     0.564988\n",
              "std     7.359801  1275.490247    0.000617   0.089073     0.275480\n",
              "min    21.000000    11.400000    0.000005   0.009396     0.179111\n",
              "25%    27.000000    72.300000    0.000034   0.033885     0.264813\n",
              "50%    33.000000   524.810000    0.000256   0.087192     0.558499\n",
              "75%    39.000000   836.470000    0.000399   0.145220     0.794306\n",
              "max    45.000000  6492.930000    0.003136   0.338800     0.975992"
            ],
            "text/html": [
              "\n",
              "  <div id=\"df-aac64916-0a7a-4bba-b990-2a3a18bb62ad\">\n",
              "    <div class=\"colab-df-container\">\n",
              "      <div>\n",
              "<style scoped>\n",
              "    .dataframe tbody tr th:only-of-type {\n",
              "        vertical-align: middle;\n",
              "    }\n",
              "\n",
              "    .dataframe tbody tr th {\n",
              "        vertical-align: top;\n",
              "    }\n",
              "\n",
              "    .dataframe thead th {\n",
              "        text-align: right;\n",
              "    }\n",
              "</style>\n",
              "<table border=\"1\" class=\"dataframe\">\n",
              "  <thead>\n",
              "    <tr style=\"text-align: right;\">\n",
              "      <th></th>\n",
              "      <th>OBJECTID</th>\n",
              "      <th>ACRES</th>\n",
              "      <th>SHAPE.AREA</th>\n",
              "      <th>SHAPE.LEN</th>\n",
              "      <th>NEW_FEATURE</th>\n",
              "    </tr>\n",
              "  </thead>\n",
              "  <tbody>\n",
              "    <tr>\n",
              "      <th>count</th>\n",
              "      <td>25.000000</td>\n",
              "      <td>25.000000</td>\n",
              "      <td>25.000000</td>\n",
              "      <td>25.000000</td>\n",
              "      <td>25.000000</td>\n",
              "    </tr>\n",
              "    <tr>\n",
              "      <th>mean</th>\n",
              "      <td>33.000000</td>\n",
              "      <td>724.134400</td>\n",
              "      <td>0.000352</td>\n",
              "      <td>0.109863</td>\n",
              "      <td>0.564988</td>\n",
              "    </tr>\n",
              "    <tr>\n",
              "      <th>std</th>\n",
              "      <td>7.359801</td>\n",
              "      <td>1275.490247</td>\n",
              "      <td>0.000617</td>\n",
              "      <td>0.089073</td>\n",
              "      <td>0.275480</td>\n",
              "    </tr>\n",
              "    <tr>\n",
              "      <th>min</th>\n",
              "      <td>21.000000</td>\n",
              "      <td>11.400000</td>\n",
              "      <td>0.000005</td>\n",
              "      <td>0.009396</td>\n",
              "      <td>0.179111</td>\n",
              "    </tr>\n",
              "    <tr>\n",
              "      <th>25%</th>\n",
              "      <td>27.000000</td>\n",
              "      <td>72.300000</td>\n",
              "      <td>0.000034</td>\n",
              "      <td>0.033885</td>\n",
              "      <td>0.264813</td>\n",
              "    </tr>\n",
              "    <tr>\n",
              "      <th>50%</th>\n",
              "      <td>33.000000</td>\n",
              "      <td>524.810000</td>\n",
              "      <td>0.000256</td>\n",
              "      <td>0.087192</td>\n",
              "      <td>0.558499</td>\n",
              "    </tr>\n",
              "    <tr>\n",
              "      <th>75%</th>\n",
              "      <td>39.000000</td>\n",
              "      <td>836.470000</td>\n",
              "      <td>0.000399</td>\n",
              "      <td>0.145220</td>\n",
              "      <td>0.794306</td>\n",
              "    </tr>\n",
              "    <tr>\n",
              "      <th>max</th>\n",
              "      <td>45.000000</td>\n",
              "      <td>6492.930000</td>\n",
              "      <td>0.003136</td>\n",
              "      <td>0.338800</td>\n",
              "      <td>0.975992</td>\n",
              "    </tr>\n",
              "  </tbody>\n",
              "</table>\n",
              "</div>\n",
              "      <button class=\"colab-df-convert\" onclick=\"convertToInteractive('df-aac64916-0a7a-4bba-b990-2a3a18bb62ad')\"\n",
              "              title=\"Convert this dataframe to an interactive table.\"\n",
              "              style=\"display:none;\">\n",
              "        \n",
              "  <svg xmlns=\"http://www.w3.org/2000/svg\" height=\"24px\"viewBox=\"0 0 24 24\"\n",
              "       width=\"24px\">\n",
              "    <path d=\"M0 0h24v24H0V0z\" fill=\"none\"/>\n",
              "    <path d=\"M18.56 5.44l.94 2.06.94-2.06 2.06-.94-2.06-.94-.94-2.06-.94 2.06-2.06.94zm-11 1L8.5 8.5l.94-2.06 2.06-.94-2.06-.94L8.5 2.5l-.94 2.06-2.06.94zm10 10l.94 2.06.94-2.06 2.06-.94-2.06-.94-.94-2.06-.94 2.06-2.06.94z\"/><path d=\"M17.41 7.96l-1.37-1.37c-.4-.4-.92-.59-1.43-.59-.52 0-1.04.2-1.43.59L10.3 9.45l-7.72 7.72c-.78.78-.78 2.05 0 2.83L4 21.41c.39.39.9.59 1.41.59.51 0 1.02-.2 1.41-.59l7.78-7.78 2.81-2.81c.8-.78.8-2.07 0-2.86zM5.41 20L4 18.59l7.72-7.72 1.47 1.35L5.41 20z\"/>\n",
              "  </svg>\n",
              "      </button>\n",
              "      \n",
              "  <style>\n",
              "    .colab-df-container {\n",
              "      display:flex;\n",
              "      flex-wrap:wrap;\n",
              "      gap: 12px;\n",
              "    }\n",
              "\n",
              "    .colab-df-convert {\n",
              "      background-color: #E8F0FE;\n",
              "      border: none;\n",
              "      border-radius: 50%;\n",
              "      cursor: pointer;\n",
              "      display: none;\n",
              "      fill: #1967D2;\n",
              "      height: 32px;\n",
              "      padding: 0 0 0 0;\n",
              "      width: 32px;\n",
              "    }\n",
              "\n",
              "    .colab-df-convert:hover {\n",
              "      background-color: #E2EBFA;\n",
              "      box-shadow: 0px 1px 2px rgba(60, 64, 67, 0.3), 0px 1px 3px 1px rgba(60, 64, 67, 0.15);\n",
              "      fill: #174EA6;\n",
              "    }\n",
              "\n",
              "    [theme=dark] .colab-df-convert {\n",
              "      background-color: #3B4455;\n",
              "      fill: #D2E3FC;\n",
              "    }\n",
              "\n",
              "    [theme=dark] .colab-df-convert:hover {\n",
              "      background-color: #434B5C;\n",
              "      box-shadow: 0px 1px 3px 1px rgba(0, 0, 0, 0.15);\n",
              "      filter: drop-shadow(0px 1px 2px rgba(0, 0, 0, 0.3));\n",
              "      fill: #FFFFFF;\n",
              "    }\n",
              "  </style>\n",
              "\n",
              "      <script>\n",
              "        const buttonEl =\n",
              "          document.querySelector('#df-aac64916-0a7a-4bba-b990-2a3a18bb62ad button.colab-df-convert');\n",
              "        buttonEl.style.display =\n",
              "          google.colab.kernel.accessAllowed ? 'block' : 'none';\n",
              "\n",
              "        async function convertToInteractive(key) {\n",
              "          const element = document.querySelector('#df-aac64916-0a7a-4bba-b990-2a3a18bb62ad');\n",
              "          const dataTable =\n",
              "            await google.colab.kernel.invokeFunction('convertToInteractive',\n",
              "                                                     [key], {});\n",
              "          if (!dataTable) return;\n",
              "\n",
              "          const docLinkHtml = 'Like what you see? Visit the ' +\n",
              "            '<a target=\"_blank\" href=https://colab.research.google.com/notebooks/data_table.ipynb>data table notebook</a>'\n",
              "            + ' to learn more about interactive tables.';\n",
              "          element.innerHTML = '';\n",
              "          dataTable['output_type'] = 'display_data';\n",
              "          await google.colab.output.renderOutput(dataTable, element);\n",
              "          const docLink = document.createElement('div');\n",
              "          docLink.innerHTML = docLinkHtml;\n",
              "          element.appendChild(docLink);\n",
              "        }\n",
              "      </script>\n",
              "    </div>\n",
              "  </div>\n",
              "  "
            ]
          },
          "metadata": {},
          "execution_count": 26
        }
      ]
    },
    {
      "cell_type": "markdown",
      "source": [
        "# 5) Find the total count of missing values for each feature."
      ],
      "metadata": {
        "id": "SynjLBIGaMLP"
      }
    },
    {
      "cell_type": "code",
      "source": [
        "print(\"Total missing value counts for each feature:\")\n",
        "print(\"=\"*44)\n",
        "print(\"\")\n",
        "print(data.isnull().sum())\n",
        "\n",
        "\n",
        "missing_value_count = data.isnull().sum().sum()\n",
        "if missing_value_count == 0:\n",
        "    print(\"\")\n",
        "    print(\"There are no missing values in this dataset.\")\n",
        "else:\n",
        "  print(\"\")\n",
        "  print(f\"There are {missing_value_count} missing values in this dataset.\")\n"
      ],
      "metadata": {
        "id": "L5lpeKSpLCSD",
        "colab": {
          "base_uri": "https://localhost:8080/"
        },
        "outputId": "7b0d7fdf-9500-4304-c48d-03547fcbb633"
      },
      "execution_count": 23,
      "outputs": [
        {
          "output_type": "stream",
          "name": "stdout",
          "text": [
            "Total missing value counts for each feature:\n",
            "============================================\n",
            "\n",
            "OBJECTID       0\n",
            "UNIT_NAME      0\n",
            "DESCRIPTION    0\n",
            "ACRES          0\n",
            "SHAPE.AREA     0\n",
            "SHAPE.LEN      0\n",
            "NEW_FEATURE    0\n",
            "dtype: int64\n",
            "\n",
            "There are no missing values in this dataset.\n"
          ]
        }
      ]
    },
    {
      "cell_type": "markdown",
      "source": [
        "## 6) Display all the unique values from the 'DESCRIPTION' column\n"
      ],
      "metadata": {
        "id": "xrN9yK9MaapO"
      }
    },
    {
      "cell_type": "code",
      "source": [
        "data.DESCRIPTION.unique()"
      ],
      "metadata": {
        "id": "Q3b8igFS60jI",
        "colab": {
          "base_uri": "https://localhost:8080/"
        },
        "outputId": "84981d52-a4ff-4f68-a142-7928e7bd3a34"
      },
      "execution_count": 9,
      "outputs": [
        {
          "output_type": "execute_result",
          "data": {
            "text/plain": [
              "array(['State Park', 'Interpretive Center', 'State Recreation Area',\n",
              "       'State Natural Area', 'State Nature Preserve'], dtype=object)"
            ]
          },
          "metadata": {},
          "execution_count": 9
        }
      ]
    },
    {
      "cell_type": "code",
      "source": [
        "data.value_counts('DESCRIPTION')"
      ],
      "metadata": {
        "colab": {
          "base_uri": "https://localhost:8080/"
        },
        "id": "8bpYErG5eurr",
        "outputId": "59e23dc5-85af-44ad-eb18-de1641f80ac0"
      },
      "execution_count": 10,
      "outputs": [
        {
          "output_type": "execute_result",
          "data": {
            "text/plain": [
              "DESCRIPTION\n",
              "State Park               13\n",
              "State Recreation Area     7\n",
              "State Natural Area        2\n",
              "State Nature Preserve     2\n",
              "Interpretive Center       1\n",
              "dtype: int64"
            ]
          },
          "metadata": {},
          "execution_count": 10
        }
      ]
    },
    {
      "cell_type": "markdown",
      "source": [
        "# 7) Create a grouped table using 'DESCRIPTION' as the grouping columns with the means of all the other columns."
      ],
      "metadata": {
        "id": "SEQjOvZhai57"
      }
    },
    {
      "cell_type": "code",
      "source": [
        "data.groupby(['DESCRIPTION']).mean()"
      ],
      "metadata": {
        "colab": {
          "base_uri": "https://localhost:8080/",
          "height": 238
        },
        "id": "PEM7kNBIkr_S",
        "outputId": "39bd155b-2fb0-431a-9d02-1b8b7ae52081"
      },
      "execution_count": 11,
      "outputs": [
        {
          "output_type": "execute_result",
          "data": {
            "text/plain": [
              "                        OBJECTID        ACRES  SHAPE.AREA  SHAPE.LEN\n",
              "DESCRIPTION                                                         \n",
              "Interpretive Center    29.000000    14.710000    0.000007   0.016774\n",
              "State Natural Area     39.000000   219.615000    0.000105   0.077137\n",
              "State Nature Preserve  39.500000    84.095000    0.000041   0.037175\n",
              "State Park             28.538462  1168.668462    0.000567   0.150326\n",
              "State Recreation Area  38.285714   326.934286    0.000162   0.078135"
            ],
            "text/html": [
              "\n",
              "  <div id=\"df-ad11b4dc-9c0e-4328-b55b-cee9b9b46874\">\n",
              "    <div class=\"colab-df-container\">\n",
              "      <div>\n",
              "<style scoped>\n",
              "    .dataframe tbody tr th:only-of-type {\n",
              "        vertical-align: middle;\n",
              "    }\n",
              "\n",
              "    .dataframe tbody tr th {\n",
              "        vertical-align: top;\n",
              "    }\n",
              "\n",
              "    .dataframe thead th {\n",
              "        text-align: right;\n",
              "    }\n",
              "</style>\n",
              "<table border=\"1\" class=\"dataframe\">\n",
              "  <thead>\n",
              "    <tr style=\"text-align: right;\">\n",
              "      <th></th>\n",
              "      <th>OBJECTID</th>\n",
              "      <th>ACRES</th>\n",
              "      <th>SHAPE.AREA</th>\n",
              "      <th>SHAPE.LEN</th>\n",
              "    </tr>\n",
              "    <tr>\n",
              "      <th>DESCRIPTION</th>\n",
              "      <th></th>\n",
              "      <th></th>\n",
              "      <th></th>\n",
              "      <th></th>\n",
              "    </tr>\n",
              "  </thead>\n",
              "  <tbody>\n",
              "    <tr>\n",
              "      <th>Interpretive Center</th>\n",
              "      <td>29.000000</td>\n",
              "      <td>14.710000</td>\n",
              "      <td>0.000007</td>\n",
              "      <td>0.016774</td>\n",
              "    </tr>\n",
              "    <tr>\n",
              "      <th>State Natural Area</th>\n",
              "      <td>39.000000</td>\n",
              "      <td>219.615000</td>\n",
              "      <td>0.000105</td>\n",
              "      <td>0.077137</td>\n",
              "    </tr>\n",
              "    <tr>\n",
              "      <th>State Nature Preserve</th>\n",
              "      <td>39.500000</td>\n",
              "      <td>84.095000</td>\n",
              "      <td>0.000041</td>\n",
              "      <td>0.037175</td>\n",
              "    </tr>\n",
              "    <tr>\n",
              "      <th>State Park</th>\n",
              "      <td>28.538462</td>\n",
              "      <td>1168.668462</td>\n",
              "      <td>0.000567</td>\n",
              "      <td>0.150326</td>\n",
              "    </tr>\n",
              "    <tr>\n",
              "      <th>State Recreation Area</th>\n",
              "      <td>38.285714</td>\n",
              "      <td>326.934286</td>\n",
              "      <td>0.000162</td>\n",
              "      <td>0.078135</td>\n",
              "    </tr>\n",
              "  </tbody>\n",
              "</table>\n",
              "</div>\n",
              "      <button class=\"colab-df-convert\" onclick=\"convertToInteractive('df-ad11b4dc-9c0e-4328-b55b-cee9b9b46874')\"\n",
              "              title=\"Convert this dataframe to an interactive table.\"\n",
              "              style=\"display:none;\">\n",
              "        \n",
              "  <svg xmlns=\"http://www.w3.org/2000/svg\" height=\"24px\"viewBox=\"0 0 24 24\"\n",
              "       width=\"24px\">\n",
              "    <path d=\"M0 0h24v24H0V0z\" fill=\"none\"/>\n",
              "    <path d=\"M18.56 5.44l.94 2.06.94-2.06 2.06-.94-2.06-.94-.94-2.06-.94 2.06-2.06.94zm-11 1L8.5 8.5l.94-2.06 2.06-.94-2.06-.94L8.5 2.5l-.94 2.06-2.06.94zm10 10l.94 2.06.94-2.06 2.06-.94-2.06-.94-.94-2.06-.94 2.06-2.06.94z\"/><path d=\"M17.41 7.96l-1.37-1.37c-.4-.4-.92-.59-1.43-.59-.52 0-1.04.2-1.43.59L10.3 9.45l-7.72 7.72c-.78.78-.78 2.05 0 2.83L4 21.41c.39.39.9.59 1.41.59.51 0 1.02-.2 1.41-.59l7.78-7.78 2.81-2.81c.8-.78.8-2.07 0-2.86zM5.41 20L4 18.59l7.72-7.72 1.47 1.35L5.41 20z\"/>\n",
              "  </svg>\n",
              "      </button>\n",
              "      \n",
              "  <style>\n",
              "    .colab-df-container {\n",
              "      display:flex;\n",
              "      flex-wrap:wrap;\n",
              "      gap: 12px;\n",
              "    }\n",
              "\n",
              "    .colab-df-convert {\n",
              "      background-color: #E8F0FE;\n",
              "      border: none;\n",
              "      border-radius: 50%;\n",
              "      cursor: pointer;\n",
              "      display: none;\n",
              "      fill: #1967D2;\n",
              "      height: 32px;\n",
              "      padding: 0 0 0 0;\n",
              "      width: 32px;\n",
              "    }\n",
              "\n",
              "    .colab-df-convert:hover {\n",
              "      background-color: #E2EBFA;\n",
              "      box-shadow: 0px 1px 2px rgba(60, 64, 67, 0.3), 0px 1px 3px 1px rgba(60, 64, 67, 0.15);\n",
              "      fill: #174EA6;\n",
              "    }\n",
              "\n",
              "    [theme=dark] .colab-df-convert {\n",
              "      background-color: #3B4455;\n",
              "      fill: #D2E3FC;\n",
              "    }\n",
              "\n",
              "    [theme=dark] .colab-df-convert:hover {\n",
              "      background-color: #434B5C;\n",
              "      box-shadow: 0px 1px 3px 1px rgba(0, 0, 0, 0.15);\n",
              "      filter: drop-shadow(0px 1px 2px rgba(0, 0, 0, 0.3));\n",
              "      fill: #FFFFFF;\n",
              "    }\n",
              "  </style>\n",
              "\n",
              "      <script>\n",
              "        const buttonEl =\n",
              "          document.querySelector('#df-ad11b4dc-9c0e-4328-b55b-cee9b9b46874 button.colab-df-convert');\n",
              "        buttonEl.style.display =\n",
              "          google.colab.kernel.accessAllowed ? 'block' : 'none';\n",
              "\n",
              "        async function convertToInteractive(key) {\n",
              "          const element = document.querySelector('#df-ad11b4dc-9c0e-4328-b55b-cee9b9b46874');\n",
              "          const dataTable =\n",
              "            await google.colab.kernel.invokeFunction('convertToInteractive',\n",
              "                                                     [key], {});\n",
              "          if (!dataTable) return;\n",
              "\n",
              "          const docLinkHtml = 'Like what you see? Visit the ' +\n",
              "            '<a target=\"_blank\" href=https://colab.research.google.com/notebooks/data_table.ipynb>data table notebook</a>'\n",
              "            + ' to learn more about interactive tables.';\n",
              "          element.innerHTML = '';\n",
              "          dataTable['output_type'] = 'display_data';\n",
              "          await google.colab.output.renderOutput(dataTable, element);\n",
              "          const docLink = document.createElement('div');\n",
              "          docLink.innerHTML = docLinkHtml;\n",
              "          element.appendChild(docLink);\n",
              "        }\n",
              "      </script>\n",
              "    </div>\n",
              "  </div>\n",
              "  "
            ]
          },
          "metadata": {},
          "execution_count": 11
        }
      ]
    },
    {
      "cell_type": "markdown",
      "source": [
        "# 8) Generate a random sample of 10 rows from the data\n",
        "\n"
      ],
      "metadata": {
        "id": "q0dfkUMXauQs"
      }
    },
    {
      "cell_type": "code",
      "source": [
        "data.sample(10)"
      ],
      "metadata": {
        "id": "ArV9TuB3Qzs_",
        "colab": {
          "base_uri": "https://localhost:8080/",
          "height": 363
        },
        "outputId": "ca5dd4d6-335d-47a5-9d74-1d168eebc379"
      },
      "execution_count": 12,
      "outputs": [
        {
          "output_type": "execute_result",
          "data": {
            "text/plain": [
              "    OBJECTID                              UNIT_NAME            DESCRIPTION  \\\n",
              "12        35   Butte St. Paul State Recreation Area  State Recreation Area   \n",
              "20        41      Missouri River State Natural Area     State Natural Area   \n",
              "9         30      Fort Mandan State Recreation Area  State Recreation Area   \n",
              "18        39        Gunlogson State Nature Preserve  State Nature Preserve   \n",
              "8         29    Lewis and Clark Interpretive Center    Interpretive Center   \n",
              "22        44  Turtle Mountain State Recreation Area  State Recreation Area   \n",
              "0         21              Fort Stevenson State Park             State Park   \n",
              "3         24                 Fort Ransom State Park             State Park   \n",
              "7         28             Lewis and Clark State Park             State Park   \n",
              "1         22                 Beaver Lake State Park             State Park   \n",
              "\n",
              "     ACRES  SHAPE.AREA  SHAPE.LEN  \n",
              "12   51.23    0.000025   0.022095  \n",
              "20  174.39    0.000083   0.087192  \n",
              "9    11.40    0.000005   0.009396  \n",
              "18   95.89    0.000048   0.040465  \n",
              "8    14.71    0.000007   0.016774  \n",
              "22  695.04    0.000345   0.086487  \n",
              "0   586.48    0.000284   0.135641  \n",
              "3   933.78    0.000444   0.128733  \n",
              "7   524.81    0.000256   0.130420  \n",
              "1   273.16    0.000129   0.080067  "
            ],
            "text/html": [
              "\n",
              "  <div id=\"df-b0d38853-fabb-45d7-8099-96a9b7e22fac\">\n",
              "    <div class=\"colab-df-container\">\n",
              "      <div>\n",
              "<style scoped>\n",
              "    .dataframe tbody tr th:only-of-type {\n",
              "        vertical-align: middle;\n",
              "    }\n",
              "\n",
              "    .dataframe tbody tr th {\n",
              "        vertical-align: top;\n",
              "    }\n",
              "\n",
              "    .dataframe thead th {\n",
              "        text-align: right;\n",
              "    }\n",
              "</style>\n",
              "<table border=\"1\" class=\"dataframe\">\n",
              "  <thead>\n",
              "    <tr style=\"text-align: right;\">\n",
              "      <th></th>\n",
              "      <th>OBJECTID</th>\n",
              "      <th>UNIT_NAME</th>\n",
              "      <th>DESCRIPTION</th>\n",
              "      <th>ACRES</th>\n",
              "      <th>SHAPE.AREA</th>\n",
              "      <th>SHAPE.LEN</th>\n",
              "    </tr>\n",
              "  </thead>\n",
              "  <tbody>\n",
              "    <tr>\n",
              "      <th>12</th>\n",
              "      <td>35</td>\n",
              "      <td>Butte St. Paul State Recreation Area</td>\n",
              "      <td>State Recreation Area</td>\n",
              "      <td>51.23</td>\n",
              "      <td>0.000025</td>\n",
              "      <td>0.022095</td>\n",
              "    </tr>\n",
              "    <tr>\n",
              "      <th>20</th>\n",
              "      <td>41</td>\n",
              "      <td>Missouri River State Natural Area</td>\n",
              "      <td>State Natural Area</td>\n",
              "      <td>174.39</td>\n",
              "      <td>0.000083</td>\n",
              "      <td>0.087192</td>\n",
              "    </tr>\n",
              "    <tr>\n",
              "      <th>9</th>\n",
              "      <td>30</td>\n",
              "      <td>Fort Mandan State Recreation Area</td>\n",
              "      <td>State Recreation Area</td>\n",
              "      <td>11.40</td>\n",
              "      <td>0.000005</td>\n",
              "      <td>0.009396</td>\n",
              "    </tr>\n",
              "    <tr>\n",
              "      <th>18</th>\n",
              "      <td>39</td>\n",
              "      <td>Gunlogson State Nature Preserve</td>\n",
              "      <td>State Nature Preserve</td>\n",
              "      <td>95.89</td>\n",
              "      <td>0.000048</td>\n",
              "      <td>0.040465</td>\n",
              "    </tr>\n",
              "    <tr>\n",
              "      <th>8</th>\n",
              "      <td>29</td>\n",
              "      <td>Lewis and Clark Interpretive Center</td>\n",
              "      <td>Interpretive Center</td>\n",
              "      <td>14.71</td>\n",
              "      <td>0.000007</td>\n",
              "      <td>0.016774</td>\n",
              "    </tr>\n",
              "    <tr>\n",
              "      <th>22</th>\n",
              "      <td>44</td>\n",
              "      <td>Turtle Mountain State Recreation Area</td>\n",
              "      <td>State Recreation Area</td>\n",
              "      <td>695.04</td>\n",
              "      <td>0.000345</td>\n",
              "      <td>0.086487</td>\n",
              "    </tr>\n",
              "    <tr>\n",
              "      <th>0</th>\n",
              "      <td>21</td>\n",
              "      <td>Fort Stevenson State Park</td>\n",
              "      <td>State Park</td>\n",
              "      <td>586.48</td>\n",
              "      <td>0.000284</td>\n",
              "      <td>0.135641</td>\n",
              "    </tr>\n",
              "    <tr>\n",
              "      <th>3</th>\n",
              "      <td>24</td>\n",
              "      <td>Fort Ransom State Park</td>\n",
              "      <td>State Park</td>\n",
              "      <td>933.78</td>\n",
              "      <td>0.000444</td>\n",
              "      <td>0.128733</td>\n",
              "    </tr>\n",
              "    <tr>\n",
              "      <th>7</th>\n",
              "      <td>28</td>\n",
              "      <td>Lewis and Clark State Park</td>\n",
              "      <td>State Park</td>\n",
              "      <td>524.81</td>\n",
              "      <td>0.000256</td>\n",
              "      <td>0.130420</td>\n",
              "    </tr>\n",
              "    <tr>\n",
              "      <th>1</th>\n",
              "      <td>22</td>\n",
              "      <td>Beaver Lake State Park</td>\n",
              "      <td>State Park</td>\n",
              "      <td>273.16</td>\n",
              "      <td>0.000129</td>\n",
              "      <td>0.080067</td>\n",
              "    </tr>\n",
              "  </tbody>\n",
              "</table>\n",
              "</div>\n",
              "      <button class=\"colab-df-convert\" onclick=\"convertToInteractive('df-b0d38853-fabb-45d7-8099-96a9b7e22fac')\"\n",
              "              title=\"Convert this dataframe to an interactive table.\"\n",
              "              style=\"display:none;\">\n",
              "        \n",
              "  <svg xmlns=\"http://www.w3.org/2000/svg\" height=\"24px\"viewBox=\"0 0 24 24\"\n",
              "       width=\"24px\">\n",
              "    <path d=\"M0 0h24v24H0V0z\" fill=\"none\"/>\n",
              "    <path d=\"M18.56 5.44l.94 2.06.94-2.06 2.06-.94-2.06-.94-.94-2.06-.94 2.06-2.06.94zm-11 1L8.5 8.5l.94-2.06 2.06-.94-2.06-.94L8.5 2.5l-.94 2.06-2.06.94zm10 10l.94 2.06.94-2.06 2.06-.94-2.06-.94-.94-2.06-.94 2.06-2.06.94z\"/><path d=\"M17.41 7.96l-1.37-1.37c-.4-.4-.92-.59-1.43-.59-.52 0-1.04.2-1.43.59L10.3 9.45l-7.72 7.72c-.78.78-.78 2.05 0 2.83L4 21.41c.39.39.9.59 1.41.59.51 0 1.02-.2 1.41-.59l7.78-7.78 2.81-2.81c.8-.78.8-2.07 0-2.86zM5.41 20L4 18.59l7.72-7.72 1.47 1.35L5.41 20z\"/>\n",
              "  </svg>\n",
              "      </button>\n",
              "      \n",
              "  <style>\n",
              "    .colab-df-container {\n",
              "      display:flex;\n",
              "      flex-wrap:wrap;\n",
              "      gap: 12px;\n",
              "    }\n",
              "\n",
              "    .colab-df-convert {\n",
              "      background-color: #E8F0FE;\n",
              "      border: none;\n",
              "      border-radius: 50%;\n",
              "      cursor: pointer;\n",
              "      display: none;\n",
              "      fill: #1967D2;\n",
              "      height: 32px;\n",
              "      padding: 0 0 0 0;\n",
              "      width: 32px;\n",
              "    }\n",
              "\n",
              "    .colab-df-convert:hover {\n",
              "      background-color: #E2EBFA;\n",
              "      box-shadow: 0px 1px 2px rgba(60, 64, 67, 0.3), 0px 1px 3px 1px rgba(60, 64, 67, 0.15);\n",
              "      fill: #174EA6;\n",
              "    }\n",
              "\n",
              "    [theme=dark] .colab-df-convert {\n",
              "      background-color: #3B4455;\n",
              "      fill: #D2E3FC;\n",
              "    }\n",
              "\n",
              "    [theme=dark] .colab-df-convert:hover {\n",
              "      background-color: #434B5C;\n",
              "      box-shadow: 0px 1px 3px 1px rgba(0, 0, 0, 0.15);\n",
              "      filter: drop-shadow(0px 1px 2px rgba(0, 0, 0, 0.3));\n",
              "      fill: #FFFFFF;\n",
              "    }\n",
              "  </style>\n",
              "\n",
              "      <script>\n",
              "        const buttonEl =\n",
              "          document.querySelector('#df-b0d38853-fabb-45d7-8099-96a9b7e22fac button.colab-df-convert');\n",
              "        buttonEl.style.display =\n",
              "          google.colab.kernel.accessAllowed ? 'block' : 'none';\n",
              "\n",
              "        async function convertToInteractive(key) {\n",
              "          const element = document.querySelector('#df-b0d38853-fabb-45d7-8099-96a9b7e22fac');\n",
              "          const dataTable =\n",
              "            await google.colab.kernel.invokeFunction('convertToInteractive',\n",
              "                                                     [key], {});\n",
              "          if (!dataTable) return;\n",
              "\n",
              "          const docLinkHtml = 'Like what you see? Visit the ' +\n",
              "            '<a target=\"_blank\" href=https://colab.research.google.com/notebooks/data_table.ipynb>data table notebook</a>'\n",
              "            + ' to learn more about interactive tables.';\n",
              "          element.innerHTML = '';\n",
              "          dataTable['output_type'] = 'display_data';\n",
              "          await google.colab.output.renderOutput(dataTable, element);\n",
              "          const docLink = document.createElement('div');\n",
              "          docLink.innerHTML = docLinkHtml;\n",
              "          element.appendChild(docLink);\n",
              "        }\n",
              "      </script>\n",
              "    </div>\n",
              "  </div>\n",
              "  "
            ]
          },
          "metadata": {},
          "execution_count": 12
        }
      ]
    },
    {
      "cell_type": "markdown",
      "source": [
        "# 9) Add a Feature called 'New_feature' to the new Dataset and Add Random float Values in between 0 and 1 using NumPy"
      ],
      "metadata": {
        "id": "g4_k_HRbazK8"
      }
    },
    {
      "cell_type": "code",
      "source": [
        "import numpy as np\n",
        "from numpy import random\n",
        "random_data = np.random.uniform(0,1, size=25)\n",
        "random_data"
      ],
      "metadata": {
        "id": "3Bn8dhkTeGEv",
        "colab": {
          "base_uri": "https://localhost:8080/"
        },
        "outputId": "378cb872-320f-4d25-f0a9-80145124b0b9"
      },
      "execution_count": 13,
      "outputs": [
        {
          "output_type": "execute_result",
          "data": {
            "text/plain": [
              "array([0.21322033, 0.64404658, 0.31522509, 0.20440762, 0.70195045,\n",
              "       0.6980049 , 0.81792651, 0.90194823, 0.55595679, 0.26481269,\n",
              "       0.86364255, 0.74963698, 0.20445521, 0.55849906, 0.25537355,\n",
              "       0.51017066, 0.97599186, 0.76138114, 0.79430578, 0.51398064,\n",
              "       0.93899993, 0.34344806, 0.23149487, 0.17911122, 0.92670674])"
            ]
          },
          "metadata": {},
          "execution_count": 13
        }
      ]
    },
    {
      "cell_type": "code",
      "source": [
        "data['NEW_FEATURE']= list(random_data)\n",
        "data.head()"
      ],
      "metadata": {
        "id": "3Q5PU_Le8dkW",
        "colab": {
          "base_uri": "https://localhost:8080/",
          "height": 206
        },
        "outputId": "cdfec866-8358-4c8b-c9fb-e94222bc5347"
      },
      "execution_count": 14,
      "outputs": [
        {
          "output_type": "execute_result",
          "data": {
            "text/plain": [
              "   OBJECTID                        UNIT_NAME DESCRIPTION   ACRES  SHAPE.AREA  \\\n",
              "0        21        Fort Stevenson State Park  State Park  586.48    0.000284   \n",
              "1        22           Beaver Lake State Park  State Park  273.16    0.000129   \n",
              "2        23  Fort Abraham Lincoln State Park  State Park  836.47    0.000399   \n",
              "3        24           Fort Ransom State Park  State Park  933.78    0.000444   \n",
              "4        25        Grahams Island State Park  State Park  959.33    0.000469   \n",
              "\n",
              "   SHAPE.LEN  NEW_FEATURE  \n",
              "0   0.135641     0.213220  \n",
              "1   0.080067     0.644047  \n",
              "2   0.119868     0.315225  \n",
              "3   0.128733     0.204408  \n",
              "4   0.125546     0.701950  "
            ],
            "text/html": [
              "\n",
              "  <div id=\"df-10bc2c3b-0091-4dbd-89d4-028c9900072b\">\n",
              "    <div class=\"colab-df-container\">\n",
              "      <div>\n",
              "<style scoped>\n",
              "    .dataframe tbody tr th:only-of-type {\n",
              "        vertical-align: middle;\n",
              "    }\n",
              "\n",
              "    .dataframe tbody tr th {\n",
              "        vertical-align: top;\n",
              "    }\n",
              "\n",
              "    .dataframe thead th {\n",
              "        text-align: right;\n",
              "    }\n",
              "</style>\n",
              "<table border=\"1\" class=\"dataframe\">\n",
              "  <thead>\n",
              "    <tr style=\"text-align: right;\">\n",
              "      <th></th>\n",
              "      <th>OBJECTID</th>\n",
              "      <th>UNIT_NAME</th>\n",
              "      <th>DESCRIPTION</th>\n",
              "      <th>ACRES</th>\n",
              "      <th>SHAPE.AREA</th>\n",
              "      <th>SHAPE.LEN</th>\n",
              "      <th>NEW_FEATURE</th>\n",
              "    </tr>\n",
              "  </thead>\n",
              "  <tbody>\n",
              "    <tr>\n",
              "      <th>0</th>\n",
              "      <td>21</td>\n",
              "      <td>Fort Stevenson State Park</td>\n",
              "      <td>State Park</td>\n",
              "      <td>586.48</td>\n",
              "      <td>0.000284</td>\n",
              "      <td>0.135641</td>\n",
              "      <td>0.213220</td>\n",
              "    </tr>\n",
              "    <tr>\n",
              "      <th>1</th>\n",
              "      <td>22</td>\n",
              "      <td>Beaver Lake State Park</td>\n",
              "      <td>State Park</td>\n",
              "      <td>273.16</td>\n",
              "      <td>0.000129</td>\n",
              "      <td>0.080067</td>\n",
              "      <td>0.644047</td>\n",
              "    </tr>\n",
              "    <tr>\n",
              "      <th>2</th>\n",
              "      <td>23</td>\n",
              "      <td>Fort Abraham Lincoln State Park</td>\n",
              "      <td>State Park</td>\n",
              "      <td>836.47</td>\n",
              "      <td>0.000399</td>\n",
              "      <td>0.119868</td>\n",
              "      <td>0.315225</td>\n",
              "    </tr>\n",
              "    <tr>\n",
              "      <th>3</th>\n",
              "      <td>24</td>\n",
              "      <td>Fort Ransom State Park</td>\n",
              "      <td>State Park</td>\n",
              "      <td>933.78</td>\n",
              "      <td>0.000444</td>\n",
              "      <td>0.128733</td>\n",
              "      <td>0.204408</td>\n",
              "    </tr>\n",
              "    <tr>\n",
              "      <th>4</th>\n",
              "      <td>25</td>\n",
              "      <td>Grahams Island State Park</td>\n",
              "      <td>State Park</td>\n",
              "      <td>959.33</td>\n",
              "      <td>0.000469</td>\n",
              "      <td>0.125546</td>\n",
              "      <td>0.701950</td>\n",
              "    </tr>\n",
              "  </tbody>\n",
              "</table>\n",
              "</div>\n",
              "      <button class=\"colab-df-convert\" onclick=\"convertToInteractive('df-10bc2c3b-0091-4dbd-89d4-028c9900072b')\"\n",
              "              title=\"Convert this dataframe to an interactive table.\"\n",
              "              style=\"display:none;\">\n",
              "        \n",
              "  <svg xmlns=\"http://www.w3.org/2000/svg\" height=\"24px\"viewBox=\"0 0 24 24\"\n",
              "       width=\"24px\">\n",
              "    <path d=\"M0 0h24v24H0V0z\" fill=\"none\"/>\n",
              "    <path d=\"M18.56 5.44l.94 2.06.94-2.06 2.06-.94-2.06-.94-.94-2.06-.94 2.06-2.06.94zm-11 1L8.5 8.5l.94-2.06 2.06-.94-2.06-.94L8.5 2.5l-.94 2.06-2.06.94zm10 10l.94 2.06.94-2.06 2.06-.94-2.06-.94-.94-2.06-.94 2.06-2.06.94z\"/><path d=\"M17.41 7.96l-1.37-1.37c-.4-.4-.92-.59-1.43-.59-.52 0-1.04.2-1.43.59L10.3 9.45l-7.72 7.72c-.78.78-.78 2.05 0 2.83L4 21.41c.39.39.9.59 1.41.59.51 0 1.02-.2 1.41-.59l7.78-7.78 2.81-2.81c.8-.78.8-2.07 0-2.86zM5.41 20L4 18.59l7.72-7.72 1.47 1.35L5.41 20z\"/>\n",
              "  </svg>\n",
              "      </button>\n",
              "      \n",
              "  <style>\n",
              "    .colab-df-container {\n",
              "      display:flex;\n",
              "      flex-wrap:wrap;\n",
              "      gap: 12px;\n",
              "    }\n",
              "\n",
              "    .colab-df-convert {\n",
              "      background-color: #E8F0FE;\n",
              "      border: none;\n",
              "      border-radius: 50%;\n",
              "      cursor: pointer;\n",
              "      display: none;\n",
              "      fill: #1967D2;\n",
              "      height: 32px;\n",
              "      padding: 0 0 0 0;\n",
              "      width: 32px;\n",
              "    }\n",
              "\n",
              "    .colab-df-convert:hover {\n",
              "      background-color: #E2EBFA;\n",
              "      box-shadow: 0px 1px 2px rgba(60, 64, 67, 0.3), 0px 1px 3px 1px rgba(60, 64, 67, 0.15);\n",
              "      fill: #174EA6;\n",
              "    }\n",
              "\n",
              "    [theme=dark] .colab-df-convert {\n",
              "      background-color: #3B4455;\n",
              "      fill: #D2E3FC;\n",
              "    }\n",
              "\n",
              "    [theme=dark] .colab-df-convert:hover {\n",
              "      background-color: #434B5C;\n",
              "      box-shadow: 0px 1px 3px 1px rgba(0, 0, 0, 0.15);\n",
              "      filter: drop-shadow(0px 1px 2px rgba(0, 0, 0, 0.3));\n",
              "      fill: #FFFFFF;\n",
              "    }\n",
              "  </style>\n",
              "\n",
              "      <script>\n",
              "        const buttonEl =\n",
              "          document.querySelector('#df-10bc2c3b-0091-4dbd-89d4-028c9900072b button.colab-df-convert');\n",
              "        buttonEl.style.display =\n",
              "          google.colab.kernel.accessAllowed ? 'block' : 'none';\n",
              "\n",
              "        async function convertToInteractive(key) {\n",
              "          const element = document.querySelector('#df-10bc2c3b-0091-4dbd-89d4-028c9900072b');\n",
              "          const dataTable =\n",
              "            await google.colab.kernel.invokeFunction('convertToInteractive',\n",
              "                                                     [key], {});\n",
              "          if (!dataTable) return;\n",
              "\n",
              "          const docLinkHtml = 'Like what you see? Visit the ' +\n",
              "            '<a target=\"_blank\" href=https://colab.research.google.com/notebooks/data_table.ipynb>data table notebook</a>'\n",
              "            + ' to learn more about interactive tables.';\n",
              "          element.innerHTML = '';\n",
              "          dataTable['output_type'] = 'display_data';\n",
              "          await google.colab.output.renderOutput(dataTable, element);\n",
              "          const docLink = document.createElement('div');\n",
              "          docLink.innerHTML = docLinkHtml;\n",
              "          element.appendChild(docLink);\n",
              "        }\n",
              "      </script>\n",
              "    </div>\n",
              "  </div>\n",
              "  "
            ]
          },
          "metadata": {},
          "execution_count": 14
        }
      ]
    },
    {
      "cell_type": "markdown",
      "source": [
        "# 10) Replace zero value of column 'OBJECTID' with mean value permanently."
      ],
      "metadata": {
        "id": "IrPpqYvya9BD"
      }
    },
    {
      "cell_type": "code",
      "source": [
        "data['OBJECTID'] = data['OBJECTID'].fillna(data['OBJECTID'].mean())"
      ],
      "metadata": {
        "id": "EeHx1_993RCr"
      },
      "execution_count": 16,
      "outputs": []
    }
  ]
}